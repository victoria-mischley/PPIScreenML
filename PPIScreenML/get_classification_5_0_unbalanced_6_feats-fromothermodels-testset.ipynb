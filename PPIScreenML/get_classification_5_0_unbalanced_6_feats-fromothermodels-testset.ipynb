{
 "cells": [
  {
   "cell_type": "code",
   "execution_count": 1,
   "id": "37934462",
   "metadata": {},
   "outputs": [],
   "source": [
    "import pandas as pd\n",
    "import numpy as np\n",
    "import joblib"
   ]
  },
  {
   "cell_type": "code",
   "execution_count": 2,
   "id": "e579bf01",
   "metadata": {},
   "outputs": [],
   "source": [
    "####Path to code user needs to update these three parameters#####\n",
    "path_to_code = \"/Users/mischlv/Desktop/PhD/Pipeline/myPPI_Dataset_04_27_v2/CSV_files_08_06/myPPI_Protein_model_5_xgboost_SBS_unbalanced_0.25_6featsfromothermodel_hp.pkl\"\n",
    "#####path_to_model_code_folder is the path to where the AF models are stored. Does not have to be the same location as the code\n",
    "path_to_AF_models = \"/Users/mischlv/Desktop/PhD/Pipeline/myPPI_Peptide_Dataset_wtemps/Peptide_Dataset_08_03\"\n",
    "#### name of feature_file####\n",
    "name_of_feature_csv_file = \"myPPI_Peptide_08_03_fixed\""
   ]
  },
  {
   "cell_type": "code",
   "execution_count": 3,
   "id": "43484479",
   "metadata": {},
   "outputs": [],
   "source": [
    "df = pd.read_csv(f\"{path_to_AF_models}/{name_of_feature_csv_file}.csv\")\n",
    "\n",
    "columns_red_feats =  [2, 4, 5, 8, 9, 15]\n",
    "df_columns_red_feats = [-1, 2, 4, 5, 8, 9, 15,]\n",
    "columns_red_feats_std = [val + 1 for val in columns_red_feats]\n",
    "df_columns_red_feats_std = [val + 1 for val in df_columns_red_feats]\n",
    "\n",
    "nonans_red_feats = df.iloc[:, columns_red_feats_std].dropna()\n",
    "df_nonans_red_feats = df.iloc[:, df_columns_red_feats_std].dropna()\n",
    "\n",
    "\n",
    "X = nonans_red_feats.values\n",
    "X_df = df_nonans_red_feats"
   ]
  },
  {
   "cell_type": "code",
   "execution_count": 4,
   "id": "738d4418",
   "metadata": {},
   "outputs": [
    {
     "name": "stdout",
     "output_type": "stream",
     "text": [
      "                                              File_name  ipLDDT_12A  \\\n",
      "0     249_5LZ6_205.0_wtemps_relaxed_rank_001_alphafo...       93.52   \n",
      "1     191_3DXD_176.0_wtemps_relaxed_rank_001_alphafo...       95.19   \n",
      "2     182_1MXE_174.0_wtemps_relaxed_rank_002_alphafo...       91.37   \n",
      "3     221_4BWQ_186.0_wtemps_relaxed_rank_002_alphafo...       97.50   \n",
      "4     259_5TWA_213.0_wtemps_relaxed_rank_004_alphafo...       96.63   \n",
      "...                                                 ...         ...   \n",
      "4549  386_2I3S_2I3S_chainA_3ZGA_chainB_decoy_397.0_r...       54.65   \n",
      "4550  403_4NM0_4NM0_chainA_6TQP_chainB_decoy_416.0_r...       67.07   \n",
      "4551  365_2UZV_2UZV_chainA_1AVF_chainB_decoy_363.0_r...       58.37   \n",
      "4552  372_1AVF_1AVF_chainA_3ZGA_chainB_decoy_377.0_r...       49.30   \n",
      "4553  373_5LI1_5LI1_chainA_2MNJ_chainB_decoy_378.0_r...       57.42   \n",
      "\n",
      "      iPAE_top_1_4_12A  tPAE_12A  BE_bining_energy_12A  fa_atr_complex_12A  \\\n",
      "0               1.0604    9.0979           -109.321368        -1033.121194   \n",
      "1               1.0155    8.3626            -63.898039         -957.734261   \n",
      "2               1.5511    4.8706            -99.899568        -1011.976045   \n",
      "3               0.9823   12.4538            -51.838981         -993.617301   \n",
      "4               0.9592    5.1663            -80.269367        -1275.527472   \n",
      "...                ...       ...                   ...                 ...   \n",
      "4549           17.8001   23.2954            -62.462750        -2401.750119   \n",
      "4550            6.0565   16.6431            -17.168042        -2349.301903   \n",
      "4551           10.7077   19.4109            -24.160633        -2244.484882   \n",
      "4552           11.6881   21.0592             13.942163        -2255.820546   \n",
      "4553           10.9383   20.6103             10.235257        -2257.433498   \n",
      "\n",
      "      fa_elec_complex_12A  \n",
      "0             -333.670441  \n",
      "1             -259.187664  \n",
      "2             -368.760019  \n",
      "3             -301.996900  \n",
      "4             -406.555941  \n",
      "...                   ...  \n",
      "4549          -767.605774  \n",
      "4550          -655.165737  \n",
      "4551          -674.743056  \n",
      "4552          -604.747343  \n",
      "4553          -651.437288  \n",
      "\n",
      "[4553 rows x 7 columns]\n"
     ]
    }
   ],
   "source": [
    "print(X_df)"
   ]
  },
  {
   "cell_type": "code",
   "execution_count": 5,
   "id": "ca4f4c1b",
   "metadata": {},
   "outputs": [],
   "source": [
    "# Load the Xgboost model\n",
    "final_model = joblib.load(f\"{path_to_code}\")\n",
    "# Use the loaded model and threshold for predictions\n",
    "model_scores = final_model.predict_proba(X)[:, 1]\n",
    "# Load the custom threshold from metadata\n",
    "threshold = 0.5\n",
    "predicted_label = (model_scores >= threshold).astype(int)"
   ]
  },
  {
   "cell_type": "code",
   "execution_count": 7,
   "id": "d0ff12e3",
   "metadata": {},
   "outputs": [
    {
     "name": "stdout",
     "output_type": "stream",
     "text": [
      "                                              File_name     score  \\\n",
      "0     249_5LZ6_205.0_wtemps_relaxed_rank_001_alphafo...  0.986439   \n",
      "2     182_1MXE_174.0_wtemps_relaxed_rank_002_alphafo...  0.986208   \n",
      "3     221_4BWQ_186.0_wtemps_relaxed_rank_002_alphafo...  0.985202   \n",
      "4     259_5TWA_213.0_wtemps_relaxed_rank_004_alphafo...  0.986102   \n",
      "5     215_3R85_183.0_wtemps_relaxed_rank_005_alphafo...  0.984989   \n",
      "...                                                 ...       ...   \n",
      "4519  358_3HYM_3HYM_chainA_1PJM_chainB_decoy_351.0_r...  0.095182   \n",
      "4530  401_3ZWL_3ZWL_chainA_1QGK_chainB_decoy_414.0_r...  0.374241   \n",
      "4536  369_2NUD_2NUD_chainA_1SP4_chainB_decoy_372.0_r...  0.201177   \n",
      "4547  372_1AVF_1AVF_chainA_3ZGA_chainB_decoy_377.0_r...  0.048635   \n",
      "4548  382_2VUT_2VUT_chainA_3VUX_chainB_decoy_388.0_r...  0.074972   \n",
      "\n",
      "      predicted_label       prediction  \n",
      "0                   1      interacting  \n",
      "2                   1      interacting  \n",
      "3                   1      interacting  \n",
      "4                   1      interacting  \n",
      "5                   1      interacting  \n",
      "...               ...              ...  \n",
      "4519                0  not interacting  \n",
      "4530                0  not interacting  \n",
      "4536                0  not interacting  \n",
      "4547                0  not interacting  \n",
      "4548                0  not interacting  \n",
      "\n",
      "[911 rows x 4 columns]\n"
     ]
    }
   ],
   "source": [
    "# Create the initial results dataframe\n",
    "results = pd.DataFrame({\n",
    "    'File_name': X_df['File_name'],\n",
    "    'score': model_scores,\n",
    "    'predicted_label': predicted_label\n",
    "})\n",
    "\n",
    "def label_to_prediction(label):\n",
    "    return 'interacting' if label == 1 else 'not interacting'\n",
    "\n",
    "results['prediction'] = results['predicted_label'].apply(label_to_prediction)\n",
    "###Group all 5 models together based on name\n",
    "results['common_name'] = results['File_name'].apply(lambda x: x.split(\"_relaxed_\")[0])\n",
    "\n",
    "# Rank by score within each common_name group\n",
    "results['prob_rank'] = results.groupby('common_name')['score'].rank(method='first', ascending=False).astype(int)\n",
    "\n",
    "# Filter rows where prob_rank is 1\n",
    "filtered_df = results[results['prob_rank'] == 1]\n",
    "\n",
    "final_df = filtered_df.drop(columns=['prob_rank', 'common_name'])\n",
    "print(final_df)"
   ]
  },
  {
   "cell_type": "code",
   "execution_count": 8,
   "id": "2b4cec8f",
   "metadata": {},
   "outputs": [],
   "source": [
    "####The score is in the column score and the predicted label based on a 0.5 threshold is under the column predicted_label###\n",
    "filtered_df.to_csv(f\"{path_to_AF_models}/myPPI_afv3_6featfromothermodel_peptide_dataset.csv\", mode='w', header=True, index=False)\n",
    "\n"
   ]
  },
  {
   "cell_type": "code",
   "execution_count": null,
   "id": "0739ae60",
   "metadata": {},
   "outputs": [],
   "source": []
  }
 ],
 "metadata": {
  "kernelspec": {
   "display_name": "Python 3 (ipykernel)",
   "language": "python",
   "name": "python3"
  },
  "language_info": {
   "codemirror_mode": {
    "name": "ipython",
    "version": 3
   },
   "file_extension": ".py",
   "mimetype": "text/x-python",
   "name": "python",
   "nbconvert_exporter": "python",
   "pygments_lexer": "ipython3",
   "version": "3.9.16"
  }
 },
 "nbformat": 4,
 "nbformat_minor": 5
}
