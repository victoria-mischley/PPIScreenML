{
 "cells": [
  {
   "cell_type": "code",
   "execution_count": 1,
   "id": "37934462",
   "metadata": {},
   "outputs": [],
   "source": [
    "import pandas as pd\n",
    "import numpy as np\n",
    "import joblib"
   ]
  },
  {
   "cell_type": "code",
   "execution_count": 2,
   "id": "e579bf01",
   "metadata": {},
   "outputs": [],
   "source": [
    "####Path to code user needs to update these three parameters#####\n",
    "path_to_code = \"/path/to/code/PPIscreenMML/PPIScreenML_model.pkl\"\n",
    "#####path_to_model_code_folder is the path to where the AF models are stored. Does not have to be the same location as the code\n",
    "path_to_AF_models = \"/path/to/AF_models\"\n",
    "#### name of feature_file####\n",
    "name_of_feature_csv_file = \"name_of_output_file\".csv\"\n"
   ]
  },
  {
   "cell_type": "code",
   "execution_count": 3,
   "id": "43484479",
   "metadata": {},
   "outputs": [],
   "source": [
    "df = pd.read_csv(f\"{path_to_AF_models}/{name_of_feature_csv_file}\")\n",
    "\n",
    "columns_red_feats =  [4, 14, 15, 16, 17, 21, 28]\n",
    "df_columns_red_feats = [-1, 4, 14, 15, 16, 17, 21, 28]\n",
    "\n",
    "columns_red_feats_std = [val + 1 for val in columns_red_feats]\n",
    "df_columns_red_feats_std = [val + 1 for val in df_columns_red_feats]\n",
    "\n",
    "nonans_red_feats = df.iloc[:, columns_red_feats_std].dropna()\n",
    "df_nonans_red_feats = df.iloc[:, df_columns_red_feats_std].dropna()\n",
    "\n",
    "\n",
    "X = nonans_red_feats.values\n",
    "X_df = df_nonans_red_feats"
   ]
  },
  {
   "cell_type": "code",
   "execution_count": 4,
   "id": "738d4418",
   "metadata": {},
   "outputs": [
    {
     "name": "stdout",
     "output_type": "stream",
     "text": [
      "                                             File_name  iPAE_1_4  avg_IF_atr  \\\n",
      "0    KLHL12_FL_EPHA3_trimmed_relaxed_rank_002_alpha...   19.0106   -0.136079   \n",
      "1    DTL_FL_EPHA3_trimmed_relaxed_rank_004_alphafol...   18.6799   -0.076653   \n",
      "2    DCAF15_cut3_EPHA3_trimmed_relaxed_rank_002_alp...   19.8900   -0.138310   \n",
      "3    FBXO4_FL_EPHA3_trimmed_relaxed_rank_005_alphaf...   28.0462   -0.055400   \n",
      "4    KLHL11_FL_EPHA3_trimmed_relaxed_rank_005_alpha...   24.4166   -0.287746   \n",
      "..                                                 ...       ...         ...   \n",
      "195  TRPC4AP_FL_EPHA3_trimmed_relaxed_rank_005_alph...   28.9627   -0.001502   \n",
      "196  KLHL12_FL_EPHA3_trimmed_relaxed_rank_001_alpha...   17.2491   -0.150218   \n",
      "197  KLHL6_trimmed_EPHA3_trimmed_relaxed_rank_003_a...   22.5029   -0.026960   \n",
      "198  KLHL7_FL_EPHA3_trimmed_relaxed_rank_002_alphaf...    8.0840   -0.160682   \n",
      "199  WDTC1_FL_EPHA3_trimmed_relaxed_rank_003_alphaf...   21.7062   -0.107934   \n",
      "\n",
      "     avg_IF_rep  avg_IF_sol  avg_IF_elec  prop_IF_SS_sheet  num_charged_AAs_IF  \n",
      "0      0.131544    0.097511    -0.003969          0.243902                  21  \n",
      "1      0.019781    0.069225    -0.049570          0.150000                  33  \n",
      "2      0.135522    0.090994    -0.041739          0.117188                  31  \n",
      "3      0.008833    0.067684    -0.067144          0.095238                   6  \n",
      "4      0.182166    0.113976    -0.012008          0.000000                  20  \n",
      "..          ...         ...          ...               ...                 ...  \n",
      "195    0.000000    0.001814    -0.004500          0.055556                   6  \n",
      "196    0.187486    0.102505    -0.033090          0.222222                  26  \n",
      "197    0.005025    0.006329    -0.008506          0.180556                  23  \n",
      "198    0.160791    0.081678    -0.039728          0.171875                  25  \n",
      "199    0.123920    0.070716    -0.022454          0.056338                  20  \n",
      "\n",
      "[199 rows x 8 columns]\n"
     ]
    }
   ],
   "source": [
    "print(X_df)"
   ]
  },
  {
   "cell_type": "code",
   "execution_count": 5,
   "id": "ca4f4c1b",
   "metadata": {},
   "outputs": [],
   "source": [
    "# Load the Xgboost model\n",
    "final_model = joblib.load(f\"{path_to_code}\")\n",
    "# Use the loaded model and threshold for predictions\n",
    "model_scores = final_model.predict_proba(X)[:, 1]\n",
    "# Load the custom threshold from metadata\n",
    "threshold = 0.5\n",
    "predicted_label = (model_scores >= threshold).astype(int)"
   ]
  },
  {
   "cell_type": "code",
   "execution_count": 6,
   "id": "d0ff12e3",
   "metadata": {},
   "outputs": [
    {
     "name": "stdout",
     "output_type": "stream",
     "text": [
      "                                             File_name     score  \\\n",
      "6    KLHDC2_trimmed_EPHA3_trimmed_relaxed_rank_005_...  0.009595   \n",
      "9    KBTBD4_EPHA3_trimmed_relaxed_rank_001_alphafol...  0.059750   \n",
      "22   KLHL7_FL_EPHA3_trimmed_relaxed_rank_001_alphaf...  0.409939   \n",
      "25   FBXO44_FL_EPHA3_trimmed_relaxed_rank_001_alpha...  0.458261   \n",
      "26   FBXL2_FL_EPHA3_trimmed_relaxed_rank_001_alphaf...  0.059631   \n",
      "28   DET1_FL_EPHA3_trimmed_relaxed_rank_005_alphafo...  0.003983   \n",
      "37   DCAF5_FL_EPHA3_trimmed_relaxed_rank_005_alphaf...  0.022107   \n",
      "42   KLHL6_FL_EPHA3_trimmed_relaxed_rank_001_alphaf...  0.066517   \n",
      "66   WDTC1_FL_EPHA3_trimmed_relaxed_rank_001_alphaf...  0.107268   \n",
      "73   TRPC4AP_FL_EPHA3_trimmed_relaxed_rank_001_alph...  0.009680   \n",
      "77   FBXW7_trimmed_EPHA3_trimmed_relaxed_rank_002_a...  0.063365   \n",
      "78   CRBN_trimmed_EPHA3_trimmed_relaxed_rank_003_al...  0.004094   \n",
      "80   DDB2_FL_EPHA3_trimmed_relaxed_rank_001_alphafo...  0.005054   \n",
      "87   DCAF5_trimmed_EPHA3_trimmed_relaxed_rank_002_a...  0.009023   \n",
      "97   KLHL6_trimmed_EPHA3_trimmed_relaxed_rank_001_a...  0.011688   \n",
      "98   FBXO31_FL_EPHA3_trimmed_relaxed_rank_001_alpha...  0.025300   \n",
      "102  DCAF6_FL_EPHA3_trimmed_relaxed_rank_005_alphaf...  0.012272   \n",
      "107  DDB2_trimmed_EPHA3_trimmed_relaxed_rank_004_al...  0.010348   \n",
      "116  CRBN_FL_EPHA3_trimmed_relaxed_rank_001_alphafo...  0.010046   \n",
      "123  BTRC_trimmed_EPHA3_trimmed_relaxed_rank_001_al...  0.028947   \n",
      "125  FBXW7_FL_EPHA3_trimmed_relaxed_rank_002_alphaf...  0.060586   \n",
      "126  FBXL17_FL_EPHA3_trimmed_relaxed_rank_001_alpha...  0.029869   \n",
      "131  FBXO4_FL_EPHA3_trimmed_relaxed_rank_001_alphaf...  0.004295   \n",
      "137  BTRC_FL_EPHA3_trimmed_relaxed_rank_003_alphafo...  0.004511   \n",
      "141  VHL_FL_EPHA3_trimmed_relaxed_rank_001_alphafol...  0.062834   \n",
      "143  SKP2_FL_EPHA3_trimmed_relaxed_rank_001_alphafo...  0.011906   \n",
      "145  KLHL11_FL_EPHA3_trimmed_relaxed_rank_001_alpha...  0.437051   \n",
      "147  ZER1_FL_EPHA3_trimmed_relaxed_rank_002_alphafo...  0.130861   \n",
      "151  KLHDC2_FL_EPHA3_trimmed_relaxed_rank_001_alpha...  0.023525   \n",
      "154  DCAF15_FL_EPHA3_trimmed_relaxed_rank_001_alpha...  0.009937   \n",
      "156  FBXL3_FL_EPHA3_trimmed_relaxed_rank_004_alphaf...  0.009929   \n",
      "161  FBXO3_FL_EPHA3_trimmed_relaxed_rank_003_alphaf...  0.022013   \n",
      "174  KLHL20_FL_EPHA3_trimmed_relaxed_rank_001_alpha...  0.155046   \n",
      "176  DTL_FL_EPHA3_trimmed_relaxed_rank_001_alphafol...  0.900368   \n",
      "178  DCAF15_cut3_EPHA3_trimmed_relaxed_rank_001_alp...  0.017458   \n",
      "180  SPSB2_FL_EPHA3_trimmed_relaxed_rank_001_alphaf...  0.412927   \n",
      "185  DCAF12_FL_EPHA3_trimmed_relaxed_rank_005_alpha...  0.007655   \n",
      "189  DCAF11_FL_EPHA3_trimmed_relaxed_rank_002_alpha...  0.029311   \n",
      "191  VHL_trimmed_EPHA3_trimmed_relaxed_rank_002_alp...  0.041014   \n",
      "196  KLHL12_FL_EPHA3_trimmed_relaxed_rank_001_alpha...  0.009941   \n",
      "\n",
      "     predicted_label       prediction  \n",
      "6                  0  not interacting  \n",
      "9                  0  not interacting  \n",
      "22                 0  not interacting  \n",
      "25                 0  not interacting  \n",
      "26                 0  not interacting  \n",
      "28                 0  not interacting  \n",
      "37                 0  not interacting  \n",
      "42                 0  not interacting  \n",
      "66                 0  not interacting  \n",
      "73                 0  not interacting  \n",
      "77                 0  not interacting  \n",
      "78                 0  not interacting  \n",
      "80                 0  not interacting  \n",
      "87                 0  not interacting  \n",
      "97                 0  not interacting  \n",
      "98                 0  not interacting  \n",
      "102                0  not interacting  \n",
      "107                0  not interacting  \n",
      "116                0  not interacting  \n",
      "123                0  not interacting  \n",
      "125                0  not interacting  \n",
      "126                0  not interacting  \n",
      "131                0  not interacting  \n",
      "137                0  not interacting  \n",
      "141                0  not interacting  \n",
      "143                0  not interacting  \n",
      "145                0  not interacting  \n",
      "147                0  not interacting  \n",
      "151                0  not interacting  \n",
      "154                0  not interacting  \n",
      "156                0  not interacting  \n",
      "161                0  not interacting  \n",
      "174                0  not interacting  \n",
      "176                1      interacting  \n",
      "178                0  not interacting  \n",
      "180                0  not interacting  \n",
      "185                0  not interacting  \n",
      "189                0  not interacting  \n",
      "191                0  not interacting  \n",
      "196                0  not interacting  \n"
     ]
    }
   ],
   "source": [
    "# Create the initial results dataframe\n",
    "results = pd.DataFrame({\n",
    "    'File_name': X_df['File_name'],\n",
    "    'score': model_scores,\n",
    "    'predicted_label': predicted_label\n",
    "})\n",
    "\n",
    "def label_to_prediction(label):\n",
    "    return 'interacting' if label == 1 else 'not interacting'\n",
    "\n",
    "results['prediction'] = results['predicted_label'].apply(label_to_prediction)\n",
    "###Group all 5 models together based on name\n",
    "results['common_name'] = results['File_name'].apply(lambda x: x.split(\"_relaxed_\")[0])\n",
    "\n",
    "# Rank by score within each common_name group\n",
    "results['prob_rank'] = results.groupby('common_name')['score'].rank(method='first', ascending=False).astype(int)\n",
    "\n",
    "# Filter rows where prob_rank is 1\n",
    "filtered_df = results[results['prob_rank'] == 1]\n",
    "\n",
    "final_df = filtered_df.drop(columns=['prob_rank', 'common_name'])\n",
    "print(final_df)"
   ]
  },
  {
   "cell_type": "code",
   "execution_count": 8,
   "id": "2b4cec8f",
   "metadata": {},
   "outputs": [],
   "source": [
    "####The score is in the column score and the predicted label based on a 0.5 threshold is under the column predicted_label###\n",
    "filtered_df.to_csv(f\"{path_to_AF_models}/E3_EPHA3_DB2022_PPIscreenML_features_results.csv\", mode='w', header=True, index=False)\n",
    "\n"
   ]
  },
  {
   "cell_type": "code",
   "execution_count": null,
   "id": "967e4ee7",
   "metadata": {},
   "outputs": [],
   "source": []
  }
 ],
 "metadata": {
  "kernelspec": {
   "display_name": "Python 3 (ipykernel)",
   "language": "python",
   "name": "python3"
  },
  "language_info": {
   "codemirror_mode": {
    "name": "ipython",
    "version": 3
   },
   "file_extension": ".py",
   "mimetype": "text/x-python",
   "name": "python",
   "nbconvert_exporter": "python",
   "pygments_lexer": "ipython3",
   "version": "3.9.16"
  }
 },
 "nbformat": 4,
 "nbformat_minor": 5
}
